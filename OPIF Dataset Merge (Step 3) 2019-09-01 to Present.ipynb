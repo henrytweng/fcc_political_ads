{
 "cells": [
  {
   "cell_type": "code",
   "execution_count": 1,
   "metadata": {},
   "outputs": [],
   "source": [
    "import pandas as pd\n",
    "dfs = ['biden','klobuchar','bloomberg','buttigieg','sanders','steyer','warren']\n",
    "frames = [pd.read_pickle(n + \"_cleaned.pkl\") for n in dfs]"
   ]
  },
  {
   "cell_type": "code",
   "execution_count": 2,
   "metadata": {},
   "outputs": [],
   "source": [
    "for x in frames:\n",
    "    x.reset_index(drop = True, inplace = True)"
   ]
  },
  {
   "cell_type": "code",
   "execution_count": 3,
   "metadata": {},
   "outputs": [
    {
     "data": {
      "text/plain": [
       "Index(['candidate', 'entity_id', 'callsign', 'nielsen_dma_rank', 'create_ts',\n",
       "       'file_url', 'file_name', 'file_status', 'file_id',\n",
       "       'network_affiliation', 'active_ind'],\n",
       "      dtype='object')"
      ]
     },
     "execution_count": 3,
     "metadata": {},
     "output_type": "execute_result"
    }
   ],
   "source": [
    "frames[2].columns"
   ]
  },
  {
   "cell_type": "code",
   "execution_count": 4,
   "metadata": {},
   "outputs": [
    {
     "data": {
      "text/plain": [
       "13279"
      ]
     },
     "execution_count": 4,
     "metadata": {},
     "output_type": "execute_result"
    }
   ],
   "source": [
    "opif_df = pd.concat(frames)\n",
    "len(opif_df)"
   ]
  },
  {
   "cell_type": "code",
   "execution_count": 5,
   "metadata": {},
   "outputs": [
    {
     "data": {
      "text/plain": [
       "BLOOMBERG    7383\n",
       "STEYER       2276\n",
       "SANDERS      1645\n",
       "KLOBUCHAR     700\n",
       "BIDEN         480\n",
       "BUTTIGIEG     467\n",
       "WARREN        328\n",
       "Name: candidate, dtype: int64"
      ]
     },
     "execution_count": 5,
     "metadata": {},
     "output_type": "execute_result"
    }
   ],
   "source": [
    "opif_df.candidate.value_counts()"
   ]
  },
  {
   "cell_type": "code",
   "execution_count": 6,
   "metadata": {},
   "outputs": [
    {
     "data": {
      "text/plain": [
       "0      2019-10-07\n",
       "1      2019-10-07\n",
       "2      2019-10-07\n",
       "3      2019-10-07\n",
       "4      2019-10-07\n",
       "          ...    \n",
       "323    2020-03-31\n",
       "324    2020-03-31\n",
       "325    2020-03-31\n",
       "326    2020-03-31\n",
       "327    2020-03-31\n",
       "Name: date, Length: 13279, dtype: object"
      ]
     },
     "execution_count": 6,
     "metadata": {},
     "output_type": "execute_result"
    }
   ],
   "source": [
    "import datetime \n",
    "opif_df['date'] = opif_df.create_ts.dt.date\n",
    "opif_df['date']"
   ]
  },
  {
   "cell_type": "code",
   "execution_count": 7,
   "metadata": {},
   "outputs": [],
   "source": [
    "opif_df.to_pickle(\"OPIF_04-06.pkl\")"
   ]
  },
  {
   "cell_type": "markdown",
   "metadata": {},
   "source": [
    "## For export to Excel spreadsheet, \n",
    "### I will omit file_status, file_id, active_ind, create_ts, entity_id, and \n",
    "### add an indication of what kind of file it is e.g. request, contract, invoice."
   ]
  },
  {
   "cell_type": "code",
   "execution_count": 8,
   "metadata": {},
   "outputs": [],
   "source": [
    "## Resume session:\n",
    "import pandas as pd\n",
    "df = pd.read_pickle(\"OPIF_04-06.pkl\")"
   ]
  },
  {
   "cell_type": "code",
   "execution_count": 9,
   "metadata": {},
   "outputs": [
    {
     "data": {
      "text/plain": [
       "True"
      ]
     },
     "execution_count": 9,
     "metadata": {},
     "output_type": "execute_result"
    }
   ],
   "source": [
    "## Check for one-to-one correspondence between entity ID and call sign.\n",
    "def isOneToOne(df, col1, col2):\n",
    "    first = df.drop_duplicates([col1, col2]).groupby(col1)[col2].count().max()\n",
    "    second = df.drop_duplicates([col1, col2]).groupby(col2)[col1].count().max()\n",
    "    return first + second == 2\n",
    "\n",
    "isOneToOne(df, 'entity_id', 'callsign')"
   ]
  },
  {
   "cell_type": "code",
   "execution_count": 10,
   "metadata": {},
   "outputs": [],
   "source": [
    "df.drop(columns = ['entity_id','create_ts','file_status','file_id','active_ind'], inplace = True)"
   ]
  },
  {
   "cell_type": "code",
   "execution_count": 11,
   "metadata": {},
   "outputs": [
    {
     "name": "stdout",
     "output_type": "stream",
     "text": [
      "274 1273 2159\n"
     ]
    }
   ],
   "source": [
    "## Number of political files with request, contract, or invoice in its name. \n",
    "import re\n",
    "def checkNameIgnoreCase(srch):\n",
    "    return df['file_name'].str.contains(srch, flags = re.IGNORECASE, regex = True)\n",
    "\n",
    "req = checkNameIgnoreCase('request').value_counts()\n",
    "c = checkNameIgnoreCase('contract').value_counts()\n",
    "i = checkNameIgnoreCase('invoice').value_counts()\n",
    "print(req[1],c[1],i[1])"
   ]
  },
  {
   "cell_type": "code",
   "execution_count": 12,
   "metadata": {},
   "outputs": [],
   "source": [
    "## Most common terms that appear in file_name, for future reference\n",
    "top50 = pd.Series(' '.join(df['file_name']).lower().split()).value_counts()[:50]"
   ]
  },
  {
   "cell_type": "code",
   "execution_count": 13,
   "metadata": {},
   "outputs": [
    {
     "data": {
      "text/plain": [
       "bloomberg                5174\n",
       "president                2356\n",
       "mike                     1965\n",
       "-                        1890\n",
       "steyer                   1880\n",
       "for                      1769\n",
       "invoice                  1706\n",
       "2020                     1585\n",
       "tom                      1392\n",
       "order                    1112\n",
       "michael                  1103\n",
       "contract                  960\n",
       "rev                       883\n",
       "sanders                   833\n",
       "bernie                    820\n",
       "est                       702\n",
       "fed                       673\n",
       "inv                       441\n",
       "2                         403\n",
       "1                         399\n",
       "form                      386\n",
       "revised                   366\n",
       "biden                     341\n",
       "d                         320\n",
       "amy                       298\n",
       "klobuchar                 274\n",
       "feb                       271\n",
       "#                         252\n",
       "warren                    237\n",
       "k5-mike                   234\n",
       "wo                        233\n",
       "rebate                    226\n",
       "us                        212\n",
       "to                        205\n",
       "pete                      193\n",
       "review                    192\n",
       "revision                  191\n",
       "buttigieg                 188\n",
       "45-mike                   186\n",
       ".                         169\n",
       "candidate                 165\n",
       "political                 162\n",
       "america                   155\n",
       "3                         141\n",
       "wbz                       140\n",
       "thru                      126\n",
       "ad                        124\n",
       "bloomberg-d-president     123\n",
       "kpix                      122\n",
       "inc                       122\n",
       "dtype: int64"
      ]
     },
     "execution_count": 13,
     "metadata": {},
     "output_type": "execute_result"
    }
   ],
   "source": [
    "top50"
   ]
  },
  {
   "cell_type": "code",
   "execution_count": 14,
   "metadata": {},
   "outputs": [
    {
     "data": {
      "text/html": [
       "<div>\n",
       "<style scoped>\n",
       "    .dataframe tbody tr th:only-of-type {\n",
       "        vertical-align: middle;\n",
       "    }\n",
       "\n",
       "    .dataframe tbody tr th {\n",
       "        vertical-align: top;\n",
       "    }\n",
       "\n",
       "    .dataframe thead th {\n",
       "        text-align: right;\n",
       "    }\n",
       "</style>\n",
       "<table border=\"1\" class=\"dataframe\">\n",
       "  <thead>\n",
       "    <tr style=\"text-align: right;\">\n",
       "      <th></th>\n",
       "      <th>candidate</th>\n",
       "      <th>callsign</th>\n",
       "      <th>nielsen_dma_rank</th>\n",
       "      <th>file_url</th>\n",
       "      <th>file_name</th>\n",
       "      <th>network_affiliation</th>\n",
       "      <th>date</th>\n",
       "      <th>label</th>\n",
       "    </tr>\n",
       "  </thead>\n",
       "  <tbody>\n",
       "    <tr>\n",
       "      <td>0</td>\n",
       "      <td>BIDEN</td>\n",
       "      <td>WMUR-TV</td>\n",
       "      <td>BOSTON (MANCHESTER)</td>\n",
       "      <td>https://publicfiles.fcc.gov/api/manager/downlo...</td>\n",
       "      <td>10.8.19 Biden 1932771 PREBOOK</td>\n",
       "      <td>ABC</td>\n",
       "      <td>2019-10-07</td>\n",
       "      <td>NaN</td>\n",
       "    </tr>\n",
       "    <tr>\n",
       "      <td>1</td>\n",
       "      <td>BIDEN</td>\n",
       "      <td>WMUR-TV</td>\n",
       "      <td>BOSTON (MANCHESTER)</td>\n",
       "      <td>https://publicfiles.fcc.gov/api/manager/downlo...</td>\n",
       "      <td>10.8.19 Biden 1932773 PREBOOK</td>\n",
       "      <td>ABC</td>\n",
       "      <td>2019-10-07</td>\n",
       "      <td>NaN</td>\n",
       "    </tr>\n",
       "    <tr>\n",
       "      <td>2</td>\n",
       "      <td>BIDEN</td>\n",
       "      <td>WMUR-TV</td>\n",
       "      <td>BOSTON (MANCHESTER)</td>\n",
       "      <td>https://publicfiles.fcc.gov/api/manager/downlo...</td>\n",
       "      <td>10.8.19 Biden 1932772 PREBOOK</td>\n",
       "      <td>ABC</td>\n",
       "      <td>2019-10-07</td>\n",
       "      <td>NaN</td>\n",
       "    </tr>\n",
       "    <tr>\n",
       "      <td>3</td>\n",
       "      <td>BIDEN</td>\n",
       "      <td>WSPA-TV</td>\n",
       "      <td>GREENVLL-SPART-ASHEVLL-AND</td>\n",
       "      <td>https://publicfiles.fcc.gov/api/manager/downlo...</td>\n",
       "      <td>BIDEN 12.31.19-1.6.20 ORDER #26660834</td>\n",
       "      <td>CBS</td>\n",
       "      <td>2019-10-07</td>\n",
       "      <td>NaN</td>\n",
       "    </tr>\n",
       "    <tr>\n",
       "      <td>4</td>\n",
       "      <td>BIDEN</td>\n",
       "      <td>WSPA-TV</td>\n",
       "      <td>GREENVLL-SPART-ASHEVLL-AND</td>\n",
       "      <td>https://publicfiles.fcc.gov/api/manager/downlo...</td>\n",
       "      <td>BIDEN 1.21.20-1.27.20 ORDER #26660842</td>\n",
       "      <td>CBS</td>\n",
       "      <td>2019-10-07</td>\n",
       "      <td>NaN</td>\n",
       "    </tr>\n",
       "  </tbody>\n",
       "</table>\n",
       "</div>"
      ],
      "text/plain": [
       "  candidate callsign            nielsen_dma_rank  \\\n",
       "0     BIDEN  WMUR-TV         BOSTON (MANCHESTER)   \n",
       "1     BIDEN  WMUR-TV         BOSTON (MANCHESTER)   \n",
       "2     BIDEN  WMUR-TV         BOSTON (MANCHESTER)   \n",
       "3     BIDEN  WSPA-TV  GREENVLL-SPART-ASHEVLL-AND   \n",
       "4     BIDEN  WSPA-TV  GREENVLL-SPART-ASHEVLL-AND   \n",
       "\n",
       "                                            file_url  \\\n",
       "0  https://publicfiles.fcc.gov/api/manager/downlo...   \n",
       "1  https://publicfiles.fcc.gov/api/manager/downlo...   \n",
       "2  https://publicfiles.fcc.gov/api/manager/downlo...   \n",
       "3  https://publicfiles.fcc.gov/api/manager/downlo...   \n",
       "4  https://publicfiles.fcc.gov/api/manager/downlo...   \n",
       "\n",
       "                               file_name network_affiliation        date label  \n",
       "0          10.8.19 Biden 1932771 PREBOOK                 ABC  2019-10-07   NaN  \n",
       "1          10.8.19 Biden 1932773 PREBOOK                 ABC  2019-10-07   NaN  \n",
       "2          10.8.19 Biden 1932772 PREBOOK                 ABC  2019-10-07   NaN  \n",
       "3  BIDEN 12.31.19-1.6.20 ORDER #26660834                 CBS  2019-10-07   NaN  \n",
       "4  BIDEN 1.21.20-1.27.20 ORDER #26660842                 CBS  2019-10-07   NaN  "
      ]
     },
     "execution_count": 14,
     "metadata": {},
     "output_type": "execute_result"
    }
   ],
   "source": [
    "df.loc[checkNameIgnoreCase('request'), 'label'] = 'Request'\n",
    "df.loc[checkNameIgnoreCase('contract'), 'label'] = 'Contract'\n",
    "df.loc[checkNameIgnoreCase('invoice'), 'label'] = 'Invoice'\n",
    "df[:5]"
   ]
  },
  {
   "cell_type": "code",
   "execution_count": 15,
   "metadata": {},
   "outputs": [],
   "source": [
    "## Export to Excel\n",
    "df = df[['candidate', 'date','nielsen_dma_rank','callsign','network_affiliation','file_name','label','file_url']]\n",
    "df.to_excel('OPIF_04-06.xlsx')"
   ]
  },
  {
   "cell_type": "markdown",
   "metadata": {},
   "source": [
    "## Repeat for NAB files"
   ]
  },
  {
   "cell_type": "code",
   "execution_count": 16,
   "metadata": {},
   "outputs": [],
   "source": [
    "dfs = ['biden','klobuchar','bloomberg','buttigieg','sanders','steyer','warren']\n",
    "frames_nab = [pd.read_pickle(n + \"_nab.pkl\") for n in dfs]"
   ]
  },
  {
   "cell_type": "code",
   "execution_count": 17,
   "metadata": {},
   "outputs": [],
   "source": [
    "for x in frames_nab:\n",
    "    x.reset_index(drop = True, inplace = True)\n",
    "df_nab = pd.concat(frames_nab, sort=True)"
   ]
  },
  {
   "cell_type": "code",
   "execution_count": 18,
   "metadata": {},
   "outputs": [
    {
     "data": {
      "text/plain": [
       "BLOOMBERG    846\n",
       "STEYER       372\n",
       "SANDERS      252\n",
       "KLOBUCHAR    142\n",
       "BIDEN        110\n",
       "WARREN        81\n",
       "BUTTIGIEG     78\n",
       "Name: candidate, dtype: int64"
      ]
     },
     "execution_count": 18,
     "metadata": {},
     "output_type": "execute_result"
    }
   ],
   "source": [
    "df_nab.candidate.value_counts()"
   ]
  },
  {
   "cell_type": "code",
   "execution_count": 19,
   "metadata": {},
   "outputs": [],
   "source": [
    "df_nab['date'] = pd.to_datetime(df_nab.create_ts, utc = True).dt.date"
   ]
  },
  {
   "cell_type": "code",
   "execution_count": 20,
   "metadata": {},
   "outputs": [
    {
     "name": "stdout",
     "output_type": "stream",
     "text": [
      "com_cpy    1848\n",
      "com_prc      33\n",
      "Name: file_status, dtype: int64\n",
      "Y    1873\n",
      "N       8\n",
      "Name: active_ind, dtype: int64\n"
     ]
    }
   ],
   "source": [
    "print(df_nab['file_status'].value_counts())\n",
    "print(df_nab['active_ind'].value_counts())"
   ]
  },
  {
   "cell_type": "code",
   "execution_count": 21,
   "metadata": {},
   "outputs": [
    {
     "data": {
      "text/plain": [
       "True"
      ]
     },
     "execution_count": 21,
     "metadata": {},
     "output_type": "execute_result"
    }
   ],
   "source": [
    "isOneToOne(df_nab, 'entity_id', 'callsign')"
   ]
  },
  {
   "cell_type": "code",
   "execution_count": 22,
   "metadata": {},
   "outputs": [],
   "source": [
    "df_nab.drop(columns = ['entity_id','create_ts','file_status','file_id','active_ind'], inplace = True)\n",
    "df_nab = df_nab[['candidate', 'date','nielsen_dma_rank','callsign','network_affiliation','file_name','file_url']]"
   ]
  },
  {
   "cell_type": "code",
   "execution_count": 23,
   "metadata": {},
   "outputs": [
    {
     "data": {
      "text/plain": [
       "nab           1309\n",
       "bloomberg      552\n",
       "-              409\n",
       "form           341\n",
       "president      334\n",
       "for            287\n",
       "steyer         250\n",
       "2020           248\n",
       "contract       198\n",
       "tom            164\n",
       "bernie         163\n",
       "mike           153\n",
       "michael        151\n",
       "sanders        135\n",
       "pb18           125\n",
       "supplement     120\n",
       "fed            110\n",
       "order           96\n",
       "d               95\n",
       "rev             77\n",
       "dtype: int64"
      ]
     },
     "execution_count": 23,
     "metadata": {},
     "output_type": "execute_result"
    }
   ],
   "source": [
    "top20 = pd.Series(' '.join(df_nab['file_name']).lower().split()).value_counts()[:20]\n",
    "top20"
   ]
  },
  {
   "cell_type": "code",
   "execution_count": 24,
   "metadata": {},
   "outputs": [],
   "source": [
    "df_nab.to_excel('OPIF_04-06_NAB.xlsx')"
   ]
  },
  {
   "cell_type": "code",
   "execution_count": null,
   "metadata": {},
   "outputs": [],
   "source": []
  }
 ],
 "metadata": {
  "kernelspec": {
   "display_name": "Python 3",
   "language": "python",
   "name": "python3"
  },
  "language_info": {
   "codemirror_mode": {
    "name": "ipython",
    "version": 3
   },
   "file_extension": ".py",
   "mimetype": "text/x-python",
   "name": "python",
   "nbconvert_exporter": "python",
   "pygments_lexer": "ipython3",
   "version": "3.7.4"
  }
 },
 "nbformat": 4,
 "nbformat_minor": 2
}
