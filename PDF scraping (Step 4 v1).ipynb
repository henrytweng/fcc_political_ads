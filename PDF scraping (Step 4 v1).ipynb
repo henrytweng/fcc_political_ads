{
 "cells": [
  {
   "cell_type": "code",
   "execution_count": 108,
   "metadata": {},
   "outputs": [],
   "source": [
    "import pandas as pd\n",
    "df = pd.read_pickle(\"OPIF_04-06.pkl\")"
   ]
  },
  {
   "cell_type": "code",
   "execution_count": 109,
   "metadata": {},
   "outputs": [
    {
     "data": {
      "text/plain": [
       "WHNS       229\n",
       "WMUR-TV    211\n",
       "KRWF       180\n",
       "KSAX       180\n",
       "KFMB-TV    169\n",
       "KTTC       159\n",
       "WPTZ       156\n",
       "KBJR-TV    152\n",
       "KRII       152\n",
       "KMPH-TV    147\n",
       "Name: callsign, dtype: int64"
      ]
     },
     "execution_count": 109,
     "metadata": {},
     "output_type": "execute_result"
    }
   ],
   "source": [
    "df['callsign'].value_counts()[:10]"
   ]
  },
  {
   "cell_type": "code",
   "execution_count": 110,
   "metadata": {},
   "outputs": [],
   "source": [
    "select = 'KRWF'\n",
    "dfquery = df[(df.callsign == select)]\n",
    "file_urls = dfquery.file_url\n",
    "file_names = dfquery.file_name"
   ]
  },
  {
   "cell_type": "code",
   "execution_count": 111,
   "metadata": {},
   "outputs": [
    {
     "name": "stdout",
     "output_type": "stream",
     "text": [
      "Creation of the directory KRWF Files/ failed\n"
     ]
    }
   ],
   "source": [
    "import os\n",
    "path = select + ' Files/'\n",
    "try:\n",
    "    os.mkdir(path)\n",
    "except OSError:\n",
    "    print (\"Creation of the directory %s failed\" % path)\n",
    "else:\n",
    "    print (\"Successfully created the directory %s \" % path)"
   ]
  },
  {
   "cell_type": "code",
   "execution_count": 112,
   "metadata": {},
   "outputs": [],
   "source": [
    "import requests, requests_cache, time\n",
    "from IPython.display import clear_output\n",
    "requests_cache.install_cache()"
   ]
  },
  {
   "cell_type": "code",
   "execution_count": 113,
   "metadata": {},
   "outputs": [
    {
     "name": "stdout",
     "output_type": "stream",
     "text": [
      "Number of errors:  5\n"
     ]
    }
   ],
   "source": [
    "n = 1\n",
    "errorCount = 0\n",
    "for url, name in zip(file_urls, file_names):\n",
    "    print(\"Downloading file {}/{}\".format(n,len(file_urls)))\n",
    "    \n",
    "    r = requests.get(url, stream = True)\n",
    "    if (r.status_code != 200): \n",
    "        print(url, r.text)\n",
    "        errorCount += 1\n",
    "        time.sleep(2)\n",
    "    else: \n",
    "        with open(path + name + '.pdf', 'wb') as f:\n",
    "            f.write(r.content)\n",
    "        dfquery['file_path'] = path + name + '.pdf'\n",
    "    if not getattr(r, 'from_cache', False):\n",
    "        time.sleep(0.25)\n",
    "    clear_output(wait = True)\n",
    "    n += 1\n",
    "print(\"Number of errors: \", errorCount)"
   ]
  },
  {
   "cell_type": "code",
   "execution_count": 28,
   "metadata": {},
   "outputs": [
    {
     "data": {
      "text/plain": [
       "'C:\\\\Users\\\\Henry Weng\\\\PythonNotebooks\\\\KSAX Files.zip'"
      ]
     },
     "execution_count": 28,
     "metadata": {},
     "output_type": "execute_result"
    }
   ],
   "source": [
    "# import shutil\n",
    "# shutil.make_archive(select + ' Files', 'zip', select + ' Files')"
   ]
  },
  {
   "cell_type": "markdown",
   "metadata": {},
   "source": [
    "### We will test the PDF scraper on one file from the selected callsign."
   ]
  },
  {
   "cell_type": "code",
   "execution_count": 22,
   "metadata": {},
   "outputs": [],
   "source": [
    "from io import StringIO\n",
    "from pdfminer.converter import TextConverter\n",
    "from pdfminer.layout import LAParams\n",
    "from pdfminer.pdfdocument import PDFDocument\n",
    "from pdfminer.pdfinterp import PDFResourceManager, PDFPageInterpreter\n",
    "from pdfminer.pdfpage import PDFPage\n",
    "from pdfminer.pdfparser import PDFParser\n",
    "\n",
    "def scrape(pdf):\n",
    "    output_string = StringIO()\n",
    "    with open(pdf, 'rb') as in_file:\n",
    "        parser = PDFParser(in_file)\n",
    "        doc = PDFDocument(parser)\n",
    "        rsrcmgr = PDFResourceManager()\n",
    "        device = TextConverter(rsrcmgr, output_string, laparams=LAParams())\n",
    "        interpreter = PDFPageInterpreter(rsrcmgr, device)\n",
    "        for page in PDFPage.create_pages(doc):\n",
    "            interpreter.process_page(page)\n",
    "    return output_string.getvalue()"
   ]
  },
  {
   "cell_type": "markdown",
   "metadata": {},
   "source": [
    "#### Find the different search parameters for contracts and invoices."
   ]
  },
  {
   "cell_type": "markdown",
   "metadata": {},
   "source": [
    "#### Contracts"
   ]
  },
  {
   "cell_type": "code",
   "execution_count": 88,
   "metadata": {},
   "outputs": [],
   "source": [
    "contract = scrape(path + file_names[353] + '.pdf')"
   ]
  },
  {
   "cell_type": "code",
   "execution_count": 89,
   "metadata": {},
   "outputs": [
    {
     "data": {
      "text/plain": [
       "'Contract Agreement Between:\\n\\nPrint Date\\n\\n03/02/20\\n\\nPage\\n\\n1\\n\\nof\\n\\n2\\n\\nKSTP-TV, LLC\\n3415 University Ave\\nSaint Paul, MN  55114-2099\\n(651)646-5555\\n\\nCONTRACT\\n\\nContract / Revision\\n\\nAlt Order #\\n\\n381617\\n\\n / \\n\\n09765140\\n\\nProduct\\n\\nJOE BIDEN PRESIDENT\\n\\nContract Dates\\n\\nEstimate #\\n\\n03/02/20 - 03/03/20\\n\\n7173\\n\\nAdvert'"
      ]
     },
     "execution_count": 89,
     "metadata": {},
     "output_type": "execute_result"
    }
   ],
   "source": [
    "contract[:300]"
   ]
  },
  {
   "cell_type": "code",
   "execution_count": 90,
   "metadata": {},
   "outputs": [
    {
     "data": {
      "text/plain": [
       "'Contract Dates\\n\\nEstimate #\\n\\n03/02/20 - 03/03/20\\n\\n7'"
      ]
     },
     "execution_count": 90,
     "metadata": {},
     "output_type": "execute_result"
    }
   ],
   "source": [
    "i = contract.find('Contract Dates')\n",
    "contract[i : i+50]"
   ]
  },
  {
   "cell_type": "code",
   "execution_count": 91,
   "metadata": {},
   "outputs": [
    {
     "data": {
      "text/plain": [
       "'03/02/20 - 03/03/20'"
      ]
     },
     "execution_count": 91,
     "metadata": {},
     "output_type": "execute_result"
    }
   ],
   "source": [
    "contract[i+28:i+47]"
   ]
  },
  {
   "cell_type": "markdown",
   "metadata": {},
   "source": [
    "#### Invoices"
   ]
  },
  {
   "cell_type": "code",
   "execution_count": 92,
   "metadata": {},
   "outputs": [],
   "source": [
    "inv = scrape(path + file_names[448] + '.pdf')"
   ]
  },
  {
   "cell_type": "code",
   "execution_count": 93,
   "metadata": {},
   "outputs": [
    {
     "data": {
      "text/plain": [
       "'KSTP-TV, LLC\\n3415 University Ave\\nSaint Paul, MN  55114-2099\\nMain:   (651)646-5555\\nBilling: (651)642-4230\\n\\nINVOICE\\n\\nPage\\n\\n1\\n\\n3of\\n\\nProperty\\n\\nInvoice #\\n\\nKSTP_KSAX\\n381617-1\\n\\nOrder #\\n\\n381617\\n\\nInvoice Date\\n\\n03/08/20\\n\\nAlt Order #\\n\\n09765140\\n\\nInvoice Month\\n\\nMarch 2020\\n\\nDeal #\\n\\nInvoice Period\\n\\n02/24/20 - 03/03/20\\n\\nFlight Dates\\n\\n03/02/20 - 03/03/20\\n\\nAdvertise'"
      ]
     },
     "execution_count": 93,
     "metadata": {},
     "output_type": "execute_result"
    }
   ],
   "source": [
    "inv[:350]"
   ]
  },
  {
   "cell_type": "code",
   "execution_count": 94,
   "metadata": {},
   "outputs": [
    {
     "data": {
      "text/plain": [
       "'Flight Dates\\n\\n03/02/20 - 03/03/20\\n\\nAdvertiser\\n\\nPro'"
      ]
     },
     "execution_count": 94,
     "metadata": {},
     "output_type": "execute_result"
    }
   ],
   "source": [
    "i = inv.find('Flight Dates')\n",
    "inv[i:i+50]"
   ]
  },
  {
   "cell_type": "code",
   "execution_count": 101,
   "metadata": {},
   "outputs": [
    {
     "data": {
      "text/plain": [
       "-1"
      ]
     },
     "execution_count": 101,
     "metadata": {},
     "output_type": "execute_result"
    }
   ],
   "source": [
    "inv.find('Contract Dates')"
   ]
  },
  {
   "cell_type": "code",
   "execution_count": 95,
   "metadata": {},
   "outputs": [
    {
     "data": {
      "text/plain": [
       "'03/02/20 - 03/03/20'"
      ]
     },
     "execution_count": 95,
     "metadata": {},
     "output_type": "execute_result"
    }
   ],
   "source": [
    "inv[i+14:i+33]"
   ]
  },
  {
   "cell_type": "code",
   "execution_count": 105,
   "metadata": {
    "collapsed": true
   },
   "outputs": [
    {
     "data": {
      "text/html": [
       "<div>\n",
       "<style scoped>\n",
       "    .dataframe tbody tr th:only-of-type {\n",
       "        vertical-align: middle;\n",
       "    }\n",
       "\n",
       "    .dataframe tbody tr th {\n",
       "        vertical-align: top;\n",
       "    }\n",
       "\n",
       "    .dataframe thead th {\n",
       "        text-align: right;\n",
       "    }\n",
       "</style>\n",
       "<table border=\"1\" class=\"dataframe\">\n",
       "  <thead>\n",
       "    <tr style=\"text-align: right;\">\n",
       "      <th></th>\n",
       "      <th>candidate</th>\n",
       "      <th>entity_id</th>\n",
       "      <th>callsign</th>\n",
       "      <th>nielsen_dma_rank</th>\n",
       "      <th>create_ts</th>\n",
       "      <th>file_url</th>\n",
       "      <th>file_name</th>\n",
       "      <th>file_status</th>\n",
       "      <th>file_id</th>\n",
       "      <th>network_affiliation</th>\n",
       "      <th>active_ind</th>\n",
       "      <th>date</th>\n",
       "      <th>file_path</th>\n",
       "    </tr>\n",
       "  </thead>\n",
       "  <tbody>\n",
       "    <tr>\n",
       "      <td>353</td>\n",
       "      <td>BIDEN</td>\n",
       "      <td>35585</td>\n",
       "      <td>KRWF</td>\n",
       "      <td>MINNEAPOLIS-ST. PAUL</td>\n",
       "      <td>2020-03-09 16:03:14.060000+00:00</td>\n",
       "      <td>https://publicfiles.fcc.gov/api/manager/downlo...</td>\n",
       "      <td>K5-Biden for President-ORD-381617</td>\n",
       "      <td>com_cpy</td>\n",
       "      <td>2d212039-478f-980e-03f9-d1056855b21c</td>\n",
       "      <td>ABC</td>\n",
       "      <td>Y</td>\n",
       "      <td>2020-03-09</td>\n",
       "      <td>KRWF Files/K5-Bernie 2020-INVOICE-380427-2.pdf</td>\n",
       "    </tr>\n",
       "    <tr>\n",
       "      <td>354</td>\n",
       "      <td>BIDEN</td>\n",
       "      <td>35585</td>\n",
       "      <td>KRWF</td>\n",
       "      <td>MINNEAPOLIS-ST. PAUL</td>\n",
       "      <td>2020-03-09 16:03:14.010000+00:00</td>\n",
       "      <td>https://publicfiles.fcc.gov/api/manager/downlo...</td>\n",
       "      <td>45-Biden for President-ORD-381627</td>\n",
       "      <td>com_cpy</td>\n",
       "      <td>97845cba-5d05-cd84-c6e3-e9df46e56bae</td>\n",
       "      <td>ABC</td>\n",
       "      <td>Y</td>\n",
       "      <td>2020-03-09</td>\n",
       "      <td>KRWF Files/K5-Bernie 2020-INVOICE-380427-2.pdf</td>\n",
       "    </tr>\n",
       "    <tr>\n",
       "      <td>355</td>\n",
       "      <td>BIDEN</td>\n",
       "      <td>35585</td>\n",
       "      <td>KRWF</td>\n",
       "      <td>MINNEAPOLIS-ST. PAUL</td>\n",
       "      <td>2020-03-09 16:03:14.084000+00:00</td>\n",
       "      <td>https://publicfiles.fcc.gov/api/manager/downlo...</td>\n",
       "      <td>K5-Biden for President-ORD-381617-REV1</td>\n",
       "      <td>com_cpy</td>\n",
       "      <td>92514b98-979c-4976-d6e6-e50542f4e5b9</td>\n",
       "      <td>ABC</td>\n",
       "      <td>Y</td>\n",
       "      <td>2020-03-09</td>\n",
       "      <td>KRWF Files/K5-Bernie 2020-INVOICE-380427-2.pdf</td>\n",
       "    </tr>\n",
       "    <tr>\n",
       "      <td>446</td>\n",
       "      <td>BIDEN</td>\n",
       "      <td>35585</td>\n",
       "      <td>KRWF</td>\n",
       "      <td>MINNEAPOLIS-ST. PAUL</td>\n",
       "      <td>2020-03-31 20:46:23.108000+00:00</td>\n",
       "      <td>https://publicfiles.fcc.gov/api/manager/downlo...</td>\n",
       "      <td>45-Biden for President-INVOICE-381627-1</td>\n",
       "      <td>com_cpy</td>\n",
       "      <td>bb9063b3-77cd-716b-71a9-9dc295f9b8a9</td>\n",
       "      <td>ABC</td>\n",
       "      <td>Y</td>\n",
       "      <td>2020-03-31</td>\n",
       "      <td>KRWF Files/K5-Bernie 2020-INVOICE-380427-2.pdf</td>\n",
       "    </tr>\n",
       "    <tr>\n",
       "      <td>447</td>\n",
       "      <td>BIDEN</td>\n",
       "      <td>35585</td>\n",
       "      <td>KRWF</td>\n",
       "      <td>MINNEAPOLIS-ST. PAUL</td>\n",
       "      <td>2020-03-31 20:46:23.131000+00:00</td>\n",
       "      <td>https://publicfiles.fcc.gov/api/manager/downlo...</td>\n",
       "      <td>45-Biden for President-ORDER-381627-CODED</td>\n",
       "      <td>com_cpy</td>\n",
       "      <td>2d108791-5042-a92f-4cbc-fe406eb7fd64</td>\n",
       "      <td>ABC</td>\n",
       "      <td>Y</td>\n",
       "      <td>2020-03-31</td>\n",
       "      <td>KRWF Files/K5-Bernie 2020-INVOICE-380427-2.pdf</td>\n",
       "    </tr>\n",
       "    <tr>\n",
       "      <td>...</td>\n",
       "      <td>...</td>\n",
       "      <td>...</td>\n",
       "      <td>...</td>\n",
       "      <td>...</td>\n",
       "      <td>...</td>\n",
       "      <td>...</td>\n",
       "      <td>...</td>\n",
       "      <td>...</td>\n",
       "      <td>...</td>\n",
       "      <td>...</td>\n",
       "      <td>...</td>\n",
       "      <td>...</td>\n",
       "      <td>...</td>\n",
       "    </tr>\n",
       "    <tr>\n",
       "      <td>1562</td>\n",
       "      <td>SANDERS</td>\n",
       "      <td>35585</td>\n",
       "      <td>KRWF</td>\n",
       "      <td>MINNEAPOLIS-ST. PAUL</td>\n",
       "      <td>2020-02-25 16:06:58.148000+00:00</td>\n",
       "      <td>https://publicfiles.fcc.gov/api/manager/downlo...</td>\n",
       "      <td>K5-Bernie 2020-ORD-380427-REV7</td>\n",
       "      <td>com_cpy</td>\n",
       "      <td>af6e49dd-9809-fa10-e62f-ac9def62cf7a</td>\n",
       "      <td>ABC</td>\n",
       "      <td>Y</td>\n",
       "      <td>2020-02-25</td>\n",
       "      <td>KRWF Files/K5-Bernie 2020-INVOICE-380427-2.pdf</td>\n",
       "    </tr>\n",
       "    <tr>\n",
       "      <td>1616</td>\n",
       "      <td>SANDERS</td>\n",
       "      <td>35585</td>\n",
       "      <td>KRWF</td>\n",
       "      <td>MINNEAPOLIS-ST. PAUL</td>\n",
       "      <td>2020-03-09 16:05:07.921000+00:00</td>\n",
       "      <td>https://publicfiles.fcc.gov/api/manager/downlo...</td>\n",
       "      <td>K5-Bernie 2020-INV-380427-1</td>\n",
       "      <td>com_cpy</td>\n",
       "      <td>5c57a0e7-ee3d-905b-133a-af32761bcf07</td>\n",
       "      <td>ABC</td>\n",
       "      <td>Y</td>\n",
       "      <td>2020-03-09</td>\n",
       "      <td>KRWF Files/K5-Bernie 2020-INVOICE-380427-2.pdf</td>\n",
       "    </tr>\n",
       "    <tr>\n",
       "      <td>1630</td>\n",
       "      <td>SANDERS</td>\n",
       "      <td>35585</td>\n",
       "      <td>KRWF</td>\n",
       "      <td>MINNEAPOLIS-ST. PAUL</td>\n",
       "      <td>2020-03-31 20:48:10.053000+00:00</td>\n",
       "      <td>https://publicfiles.fcc.gov/api/manager/downlo...</td>\n",
       "      <td>K5-Bernie 2020-ORDER-380427-CODED</td>\n",
       "      <td>com_cpy</td>\n",
       "      <td>31d26ee5-16d7-16dc-2bfb-b837555c71f7</td>\n",
       "      <td>ABC</td>\n",
       "      <td>Y</td>\n",
       "      <td>2020-03-31</td>\n",
       "      <td>KRWF Files/K5-Bernie 2020-INVOICE-380427-2.pdf</td>\n",
       "    </tr>\n",
       "    <tr>\n",
       "      <td>1634</td>\n",
       "      <td>SANDERS</td>\n",
       "      <td>35585</td>\n",
       "      <td>KRWF</td>\n",
       "      <td>MINNEAPOLIS-ST. PAUL</td>\n",
       "      <td>2020-04-02 20:19:19.195000+00:00</td>\n",
       "      <td>https://publicfiles.fcc.gov/api/manager/downlo...</td>\n",
       "      <td>K5-Bernie 2020-INVOICE-380427-2</td>\n",
       "      <td>com_cpy</td>\n",
       "      <td>3e27ea36-83a0-2513-ad8d-57f3f4c60924</td>\n",
       "      <td>ABC</td>\n",
       "      <td>Y</td>\n",
       "      <td>2020-04-02</td>\n",
       "      <td>KRWF Files/K5-Bernie 2020-INVOICE-380427-2.pdf</td>\n",
       "    </tr>\n",
       "    <tr>\n",
       "      <td>1637</td>\n",
       "      <td>SANDERS</td>\n",
       "      <td>35585</td>\n",
       "      <td>KRWF</td>\n",
       "      <td>MINNEAPOLIS-ST. PAUL</td>\n",
       "      <td>2020-04-03 16:03:33.432000+00:00</td>\n",
       "      <td>https://publicfiles.fcc.gov/api/manager/downlo...</td>\n",
       "      <td>K5-Bernie 2020-POLITICAL INQUIRY FORM-2.17.20</td>\n",
       "      <td>com_prc</td>\n",
       "      <td>8457b377-74c9-4cf5-cc85-11a099cea969</td>\n",
       "      <td>ABC</td>\n",
       "      <td>Y</td>\n",
       "      <td>2020-04-03</td>\n",
       "      <td>KRWF Files/K5-Bernie 2020-INVOICE-380427-2.pdf</td>\n",
       "    </tr>\n",
       "  </tbody>\n",
       "</table>\n",
       "<p>180 rows × 13 columns</p>\n",
       "</div>"
      ],
      "text/plain": [
       "     candidate entity_id callsign      nielsen_dma_rank  \\\n",
       "353      BIDEN     35585     KRWF  MINNEAPOLIS-ST. PAUL   \n",
       "354      BIDEN     35585     KRWF  MINNEAPOLIS-ST. PAUL   \n",
       "355      BIDEN     35585     KRWF  MINNEAPOLIS-ST. PAUL   \n",
       "446      BIDEN     35585     KRWF  MINNEAPOLIS-ST. PAUL   \n",
       "447      BIDEN     35585     KRWF  MINNEAPOLIS-ST. PAUL   \n",
       "...        ...       ...      ...                   ...   \n",
       "1562   SANDERS     35585     KRWF  MINNEAPOLIS-ST. PAUL   \n",
       "1616   SANDERS     35585     KRWF  MINNEAPOLIS-ST. PAUL   \n",
       "1630   SANDERS     35585     KRWF  MINNEAPOLIS-ST. PAUL   \n",
       "1634   SANDERS     35585     KRWF  MINNEAPOLIS-ST. PAUL   \n",
       "1637   SANDERS     35585     KRWF  MINNEAPOLIS-ST. PAUL   \n",
       "\n",
       "                            create_ts  \\\n",
       "353  2020-03-09 16:03:14.060000+00:00   \n",
       "354  2020-03-09 16:03:14.010000+00:00   \n",
       "355  2020-03-09 16:03:14.084000+00:00   \n",
       "446  2020-03-31 20:46:23.108000+00:00   \n",
       "447  2020-03-31 20:46:23.131000+00:00   \n",
       "...                               ...   \n",
       "1562 2020-02-25 16:06:58.148000+00:00   \n",
       "1616 2020-03-09 16:05:07.921000+00:00   \n",
       "1630 2020-03-31 20:48:10.053000+00:00   \n",
       "1634 2020-04-02 20:19:19.195000+00:00   \n",
       "1637 2020-04-03 16:03:33.432000+00:00   \n",
       "\n",
       "                                               file_url  \\\n",
       "353   https://publicfiles.fcc.gov/api/manager/downlo...   \n",
       "354   https://publicfiles.fcc.gov/api/manager/downlo...   \n",
       "355   https://publicfiles.fcc.gov/api/manager/downlo...   \n",
       "446   https://publicfiles.fcc.gov/api/manager/downlo...   \n",
       "447   https://publicfiles.fcc.gov/api/manager/downlo...   \n",
       "...                                                 ...   \n",
       "1562  https://publicfiles.fcc.gov/api/manager/downlo...   \n",
       "1616  https://publicfiles.fcc.gov/api/manager/downlo...   \n",
       "1630  https://publicfiles.fcc.gov/api/manager/downlo...   \n",
       "1634  https://publicfiles.fcc.gov/api/manager/downlo...   \n",
       "1637  https://publicfiles.fcc.gov/api/manager/downlo...   \n",
       "\n",
       "                                          file_name file_status  \\\n",
       "353               K5-Biden for President-ORD-381617     com_cpy   \n",
       "354               45-Biden for President-ORD-381627     com_cpy   \n",
       "355          K5-Biden for President-ORD-381617-REV1     com_cpy   \n",
       "446         45-Biden for President-INVOICE-381627-1     com_cpy   \n",
       "447       45-Biden for President-ORDER-381627-CODED     com_cpy   \n",
       "...                                             ...         ...   \n",
       "1562                 K5-Bernie 2020-ORD-380427-REV7     com_cpy   \n",
       "1616                    K5-Bernie 2020-INV-380427-1     com_cpy   \n",
       "1630              K5-Bernie 2020-ORDER-380427-CODED     com_cpy   \n",
       "1634                K5-Bernie 2020-INVOICE-380427-2     com_cpy   \n",
       "1637  K5-Bernie 2020-POLITICAL INQUIRY FORM-2.17.20     com_prc   \n",
       "\n",
       "                                   file_id network_affiliation active_ind  \\\n",
       "353   2d212039-478f-980e-03f9-d1056855b21c                 ABC          Y   \n",
       "354   97845cba-5d05-cd84-c6e3-e9df46e56bae                 ABC          Y   \n",
       "355   92514b98-979c-4976-d6e6-e50542f4e5b9                 ABC          Y   \n",
       "446   bb9063b3-77cd-716b-71a9-9dc295f9b8a9                 ABC          Y   \n",
       "447   2d108791-5042-a92f-4cbc-fe406eb7fd64                 ABC          Y   \n",
       "...                                    ...                 ...        ...   \n",
       "1562  af6e49dd-9809-fa10-e62f-ac9def62cf7a                 ABC          Y   \n",
       "1616  5c57a0e7-ee3d-905b-133a-af32761bcf07                 ABC          Y   \n",
       "1630  31d26ee5-16d7-16dc-2bfb-b837555c71f7                 ABC          Y   \n",
       "1634  3e27ea36-83a0-2513-ad8d-57f3f4c60924                 ABC          Y   \n",
       "1637  8457b377-74c9-4cf5-cc85-11a099cea969                 ABC          Y   \n",
       "\n",
       "            date                                       file_path  \n",
       "353   2020-03-09  KRWF Files/K5-Bernie 2020-INVOICE-380427-2.pdf  \n",
       "354   2020-03-09  KRWF Files/K5-Bernie 2020-INVOICE-380427-2.pdf  \n",
       "355   2020-03-09  KRWF Files/K5-Bernie 2020-INVOICE-380427-2.pdf  \n",
       "446   2020-03-31  KRWF Files/K5-Bernie 2020-INVOICE-380427-2.pdf  \n",
       "447   2020-03-31  KRWF Files/K5-Bernie 2020-INVOICE-380427-2.pdf  \n",
       "...          ...                                             ...  \n",
       "1562  2020-02-25  KRWF Files/K5-Bernie 2020-INVOICE-380427-2.pdf  \n",
       "1616  2020-03-09  KRWF Files/K5-Bernie 2020-INVOICE-380427-2.pdf  \n",
       "1630  2020-03-31  KRWF Files/K5-Bernie 2020-INVOICE-380427-2.pdf  \n",
       "1634  2020-04-02  KRWF Files/K5-Bernie 2020-INVOICE-380427-2.pdf  \n",
       "1637  2020-04-03  KRWF Files/K5-Bernie 2020-INVOICE-380427-2.pdf  \n",
       "\n",
       "[180 rows x 13 columns]"
      ]
     },
     "execution_count": 105,
     "metadata": {},
     "output_type": "execute_result"
    }
   ],
   "source": []
  },
  {
   "cell_type": "markdown",
   "metadata": {},
   "source": [
    "#### Scrapes all the PDFs and returns as a list of strings."
   ]
  },
  {
   "cell_type": "code",
   "execution_count": 114,
   "metadata": {},
   "outputs": [
    {
     "data": {
      "text/plain": [
       "KRWF Files/K5-Bernie 2020-INVOICE-380427-2.pdf    180\n",
       "Name: file_path, dtype: int64"
      ]
     },
     "execution_count": 114,
     "metadata": {},
     "output_type": "execute_result"
    }
   ],
   "source": [
    "dfquery['file_path'].value_counts()"
   ]
  },
  {
   "cell_type": "code",
   "execution_count": 117,
   "metadata": {},
   "outputs": [],
   "source": [
    "import re \n",
    "def getTotal(in_string):\n",
    "    amtRegex = re.compile(r'(\\$)(\\d{1,3})(,\\d{3})?(.\\d{2})?')\n",
    "    mo = re.findall(amtRegex, in_string)\n",
    "    numbers = []\n",
    "    for match in mo:\n",
    "        entry = ''\n",
    "        for j in match:\n",
    "            if(j != '$'): entry += j\n",
    "        numbers.append(entry)\n",
    "    for i in range(len(numbers)):\n",
    "        numbers[i] = numbers[i].replace(',', '')\n",
    "    num_array = list(map(float, numbers))\n",
    "    return max(num_array)"
   ]
  },
  {
   "cell_type": "code",
   "execution_count": 97,
   "metadata": {},
   "outputs": [],
   "source": [
    "# import os, glob\n",
    "# n = 1\n",
    "# outputs = []\n",
    "# ## Takes 2N seconds for N files to execute\n",
    "# for filename in glob.glob(os.path.join(path, '*.pdf')):\n",
    "#     print(\"Scraping file {}\".format(n))\n",
    "#     output_string = StringIO()\n",
    "#     with open(filename, 'rb') as in_file: # open in readonly mode\n",
    "#         parser = PDFParser(in_file)\n",
    "#         doc = PDFDocument(parser)\n",
    "#         rsrcmgr = PDFResourceManager()\n",
    "#         device = TextConverter(rsrcmgr, output_string, laparams=LAParams())\n",
    "#         interpreter = PDFPageInterpreter(rsrcmgr, device)\n",
    "#         for page in PDFPage.create_pages(doc):\n",
    "#             interpreter.process_page(page)\n",
    "#     outputs.append(output_string.getvalue())\n",
    "#     clear_output(wait = True)\n",
    "#     n += 1"
   ]
  },
  {
   "cell_type": "code",
   "execution_count": 121,
   "metadata": {},
   "outputs": [],
   "source": [
    "# import pickle\n",
    "# with open('output.pkl','wb') as f:\n",
    "#     pickle.dump(outputs, f)"
   ]
  },
  {
   "cell_type": "code",
   "execution_count": null,
   "metadata": {},
   "outputs": [],
   "source": []
  }
 ],
 "metadata": {
  "kernelspec": {
   "display_name": "Python 3",
   "language": "python",
   "name": "python3"
  },
  "language_info": {
   "codemirror_mode": {
    "name": "ipython",
    "version": 3
   },
   "file_extension": ".py",
   "mimetype": "text/x-python",
   "name": "python",
   "nbconvert_exporter": "python",
   "pygments_lexer": "ipython3",
   "version": "3.7.4"
  }
 },
 "nbformat": 4,
 "nbformat_minor": 2
}
