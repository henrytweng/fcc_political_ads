{
 "cells": [
  {
   "cell_type": "markdown",
   "metadata": {},
   "source": [
    "# Data cleaning routine for all candidates"
   ]
  },
  {
   "cell_type": "code",
   "execution_count": 1,
   "metadata": {},
   "outputs": [],
   "source": [
    "import re, pandas as pd\n",
    "## Returns NAB files, prints all WNAB files for inspection.\n",
    "def get_nab(df):\n",
    "    print (df[df['callsign'].str.contains('NAB')]['file_name'])\n",
    "    return df[df['file_name'].str.contains('NAB|PB18|PB-18|PB 18|PB19|PB-19|PB 19| PB', flags = re.IGNORECASE, regex = True) & ~df['callsign'].str.contains('NAB')]\n",
    "\n",
    "## Returns df - NAB files\n",
    "def select_df(candidate):\n",
    "    temp = pd.read_pickle(str(candidate) + \".pkl\")\n",
    "    temp = temp[['entity_id','callsign','nielsen_dma_rank','create_ts','file_url','file_name',\n",
    "                 'file_status','file_id','network_affiliation','active_ind']]\n",
    "    temp.insert(0,'candidate',str.upper(candidate))\n",
    "    temp['create_ts'] = pd.to_datetime(temp.create_ts)\n",
    "    temp_nab = get_nab(temp)\n",
    "    temp_nab.to_pickle(str(candidate) + \"_nab\" + \".pkl\")\n",
    "    print(\"Before: \", len(temp))\n",
    "    temp.drop(temp_nab.index, inplace = True)\n",
    "    print(\"After: \", len(temp))\n",
    "    temp.to_pickle(str(candidate) + \"_cleaned\" + \".pkl\")\n",
    "    return temp"
   ]
  },
  {
   "cell_type": "code",
   "execution_count": 2,
   "metadata": {},
   "outputs": [
    {
     "name": "stdout",
     "output_type": "stream",
     "text": [
      "6741           WNAB Order # 26780698 Contact # 4197115\n",
      "6742                             WNAB Order # 26780698\n",
      "6743                         wnab bloomberg c# 4197115\n",
      "6959                             WNAB Order # 26785003\n",
      "6960          WNAB Order # 26785003 Contract # 4204769\n",
      "6961          WNAB Order # 26788027 Contract # 4217032\n",
      "6962                             WNAB Order # 26788027\n",
      "6963                         wnab bloomberg c# 4204769\n",
      "7064                         wnab bloomberg c# 4217032\n",
      "7490                             WNAB Order # 26800758\n",
      "7491          WNAB Order # 26800758 Contract # 4241798\n",
      "7492          WNAB Order # 26798959 Contract # 4238316\n",
      "7493                             WNAB Order # 26798959\n",
      "7494                         wnab bloomberg c# 4238316\n",
      "7495                         wnab bloomberg c# 4241798\n",
      "7565          WNAB Order # 26792127 Contract # 4227386\n",
      "7566                           WNAB Order # 26792127 2\n",
      "7567                          wnab bloomberg c#4227386\n",
      "8147                       WNAB Order # 26807088 2 (3)\n",
      "8148      WNAB Order # 26800586 Contract # 4241673 (1)\n",
      "8149    WNAB Order # 26807088 Contract # 4256303 2 (3)\n",
      "8150                         WNAB Order # 26800586 (1)\n",
      "8151                         wnab bloomberg c# 4256303\n",
      "8152                         wnab bloomberg c# 4241673\n",
      "Name: file_name, dtype: object\n",
      "Before:  8229\n",
      "After:  7383\n"
     ]
    }
   ],
   "source": [
    "## Bloomberg\n",
    "bloomberg_df = select_df('bloomberg')"
   ]
  },
  {
   "cell_type": "code",
   "execution_count": 3,
   "metadata": {},
   "outputs": [
    {
     "name": "stdout",
     "output_type": "stream",
     "text": [
      "498                       WNAB Order # 26809807\n",
      "499    WNAB Order # 26809807 Contract # 4260092\n",
      "500                            NAB - BIDEN 2020\n",
      "501               wnab biden c# 4260092 postlog\n",
      "Name: file_name, dtype: object\n",
      "Before:  590\n",
      "After:  480\n"
     ]
    }
   ],
   "source": [
    "## Biden\n",
    "biden_df = select_df('biden')"
   ]
  },
  {
   "cell_type": "markdown",
   "metadata": {},
   "source": [
    "#### There will be one NAB file in the Biden dataset."
   ]
  },
  {
   "cell_type": "code",
   "execution_count": 4,
   "metadata": {},
   "outputs": [
    {
     "name": "stdout",
     "output_type": "stream",
     "text": [
      "Series([], Name: file_name, dtype: object)\n",
      "Before:  409\n",
      "After:  328\n"
     ]
    }
   ],
   "source": [
    "## Warren\n",
    "wdf = select_df('warren')"
   ]
  },
  {
   "cell_type": "code",
   "execution_count": 5,
   "metadata": {},
   "outputs": [
    {
     "name": "stdout",
     "output_type": "stream",
     "text": [
      "Series([], Name: file_name, dtype: object)\n",
      "Before:  1900\n",
      "After:  1647\n"
     ]
    }
   ],
   "source": [
    "## Sanders\n",
    "sanders_df = select_df('sanders')"
   ]
  },
  {
   "cell_type": "code",
   "execution_count": 6,
   "metadata": {
    "scrolled": true
   },
   "outputs": [
    {
     "name": "stdout",
     "output_type": "stream",
     "text": [
      "Series([], Name: file_name, dtype: object)\n",
      "Before:  545\n",
      "After:  467\n"
     ]
    }
   ],
   "source": [
    "## Buttigieg\n",
    "pete_df = select_df('buttigieg')"
   ]
  },
  {
   "cell_type": "code",
   "execution_count": 7,
   "metadata": {},
   "outputs": [
    {
     "name": "stdout",
     "output_type": "stream",
     "text": [
      "644               Amy for America March 3rd NAB\n",
      "645                 wnab amy c# 4251843 postlog\n",
      "823                       WNAB Order # 26805433\n",
      "824    WNAB Order # 26805433 Contract # 4251843\n",
      "Name: file_name, dtype: object\n",
      "Before:  842\n",
      "After:  700\n"
     ]
    }
   ],
   "source": [
    "## Klobuchar\n",
    "klobuchar_df = select_df('klobuchar')"
   ]
  },
  {
   "cell_type": "markdown",
   "metadata": {},
   "source": [
    "#### There will be one NAB file in the Klobuchar dataset."
   ]
  },
  {
   "cell_type": "code",
   "execution_count": 8,
   "metadata": {},
   "outputs": [
    {
     "name": "stdout",
     "output_type": "stream",
     "text": [
      "2608    WNAB Order # 26804810 Contract # 4250203\n",
      "2609                       WNAB Order # 26804810\n",
      "2610                                      TS NAB\n",
      "2611              wnab steyer c# 4250203 postlog\n",
      "Name: file_name, dtype: object\n",
      "Before:  2657\n",
      "After:  2283\n"
     ]
    }
   ],
   "source": [
    "## Steyer\n",
    "steyer_df = select_df('steyer')"
   ]
  },
  {
   "cell_type": "markdown",
   "metadata": {},
   "source": [
    "#### There will be one NAB file in the Steyer dataset."
   ]
  },
  {
   "cell_type": "code",
   "execution_count": 29,
   "metadata": {},
   "outputs": [
    {
     "name": "stdout",
     "output_type": "stream",
     "text": [
      "Before: 3399\n",
      "After: 2973\n"
     ]
    }
   ],
   "source": [
    "## But this was the result count for February!"
   ]
  },
  {
   "cell_type": "code",
   "execution_count": 144,
   "metadata": {
    "collapsed": true
   },
   "outputs": [
    {
     "data": {
      "text/html": [
       "<div>\n",
       "<style scoped>\n",
       "    .dataframe tbody tr th:only-of-type {\n",
       "        vertical-align: middle;\n",
       "    }\n",
       "\n",
       "    .dataframe tbody tr th {\n",
       "        vertical-align: top;\n",
       "    }\n",
       "\n",
       "    .dataframe thead th {\n",
       "        text-align: right;\n",
       "    }\n",
       "</style>\n",
       "<table border=\"1\" class=\"dataframe\">\n",
       "  <thead>\n",
       "    <tr style=\"text-align: right;\">\n",
       "      <th></th>\n",
       "      <th>candidate</th>\n",
       "      <th>entity_id</th>\n",
       "      <th>callsign</th>\n",
       "      <th>nielsen_dma_rank</th>\n",
       "      <th>create_ts</th>\n",
       "      <th>file_url</th>\n",
       "      <th>file_name</th>\n",
       "      <th>file_status</th>\n",
       "      <th>file_id</th>\n",
       "      <th>network_affiliation</th>\n",
       "      <th>active_ind</th>\n",
       "    </tr>\n",
       "  </thead>\n",
       "  <tbody>\n",
       "    <tr>\n",
       "      <td>2</td>\n",
       "      <td>STEYER</td>\n",
       "      <td>35648</td>\n",
       "      <td>KTAL-TV</td>\n",
       "      <td>SHREVEPORT</td>\n",
       "      <td>2019-11-26 22:32:51.193000+00:00</td>\n",
       "      <td>https://publicfiles.fcc.gov/api/manager/downlo...</td>\n",
       "      <td>Tom Steyer Est. #8139 11.28.19-12.04.19</td>\n",
       "      <td>com_cpy</td>\n",
       "      <td>9d3bb5bb-b1ed-2623-7ff8-48750413a2e1</td>\n",
       "      <td>NBC</td>\n",
       "      <td>Y</td>\n",
       "    </tr>\n",
       "    <tr>\n",
       "      <td>3</td>\n",
       "      <td>STEYER</td>\n",
       "      <td>35670</td>\n",
       "      <td>KTLA</td>\n",
       "      <td>LOS ANGELES</td>\n",
       "      <td>2019-11-27 01:13:05.639000+00:00</td>\n",
       "      <td>https://publicfiles.fcc.gov/api/manager/downlo...</td>\n",
       "      <td>New- Pol- Tom Steyer- President 2239734--1 NEW</td>\n",
       "      <td>com_cpy</td>\n",
       "      <td>6160b22a-a291-8a16-8adf-33a513ec50ee</td>\n",
       "      <td>CW</td>\n",
       "      <td>N</td>\n",
       "    </tr>\n",
       "    <tr>\n",
       "      <td>5</td>\n",
       "      <td>STEYER</td>\n",
       "      <td>35648</td>\n",
       "      <td>KTAL-TV</td>\n",
       "      <td>SHREVEPORT</td>\n",
       "      <td>2019-12-04 22:20:36.662000+00:00</td>\n",
       "      <td>https://publicfiles.fcc.gov/api/manager/downlo...</td>\n",
       "      <td>Tom Steyer Est. #8139 11.28.19-12.04.19 - Rev</td>\n",
       "      <td>com_cpy</td>\n",
       "      <td>3bf4c262-115a-e53b-0a21-125c6735d94c</td>\n",
       "      <td>NBC</td>\n",
       "      <td>Y</td>\n",
       "    </tr>\n",
       "    <tr>\n",
       "      <td>7</td>\n",
       "      <td>STEYER</td>\n",
       "      <td>35648</td>\n",
       "      <td>KTAL-TV</td>\n",
       "      <td>SHREVEPORT</td>\n",
       "      <td>2019-12-09 19:35:41.895000+00:00</td>\n",
       "      <td>https://publicfiles.fcc.gov/api/manager/downlo...</td>\n",
       "      <td>Tom Steyer Est. #8170 12.16.19-12.22.19</td>\n",
       "      <td>com_cpy</td>\n",
       "      <td>120a40b5-23e4-1aac-dae1-a7688cf9d5f3</td>\n",
       "      <td>NBC</td>\n",
       "      <td>Y</td>\n",
       "    </tr>\n",
       "    <tr>\n",
       "      <td>8</td>\n",
       "      <td>STEYER</td>\n",
       "      <td>35648</td>\n",
       "      <td>KTAL-TV</td>\n",
       "      <td>SHREVEPORT</td>\n",
       "      <td>2019-12-09 19:35:41.893000+00:00</td>\n",
       "      <td>https://publicfiles.fcc.gov/api/manager/downlo...</td>\n",
       "      <td>Tom Steyer Est. #8169 12.10.19-12.15.19</td>\n",
       "      <td>com_cpy</td>\n",
       "      <td>1908707a-1489-ed51-b313-262936b6fb29</td>\n",
       "      <td>NBC</td>\n",
       "      <td>Y</td>\n",
       "    </tr>\n",
       "  </tbody>\n",
       "</table>\n",
       "</div>"
      ],
      "text/plain": [
       "  candidate entity_id callsign nielsen_dma_rank  \\\n",
       "2    STEYER     35648  KTAL-TV       SHREVEPORT   \n",
       "3    STEYER     35670     KTLA      LOS ANGELES   \n",
       "5    STEYER     35648  KTAL-TV       SHREVEPORT   \n",
       "7    STEYER     35648  KTAL-TV       SHREVEPORT   \n",
       "8    STEYER     35648  KTAL-TV       SHREVEPORT   \n",
       "\n",
       "                         create_ts  \\\n",
       "2 2019-11-26 22:32:51.193000+00:00   \n",
       "3 2019-11-27 01:13:05.639000+00:00   \n",
       "5 2019-12-04 22:20:36.662000+00:00   \n",
       "7 2019-12-09 19:35:41.895000+00:00   \n",
       "8 2019-12-09 19:35:41.893000+00:00   \n",
       "\n",
       "                                            file_url  \\\n",
       "2  https://publicfiles.fcc.gov/api/manager/downlo...   \n",
       "3  https://publicfiles.fcc.gov/api/manager/downlo...   \n",
       "5  https://publicfiles.fcc.gov/api/manager/downlo...   \n",
       "7  https://publicfiles.fcc.gov/api/manager/downlo...   \n",
       "8  https://publicfiles.fcc.gov/api/manager/downlo...   \n",
       "\n",
       "                                        file_name file_status  \\\n",
       "2         Tom Steyer Est. #8139 11.28.19-12.04.19     com_cpy   \n",
       "3  New- Pol- Tom Steyer- President 2239734--1 NEW     com_cpy   \n",
       "5   Tom Steyer Est. #8139 11.28.19-12.04.19 - Rev     com_cpy   \n",
       "7         Tom Steyer Est. #8170 12.16.19-12.22.19     com_cpy   \n",
       "8         Tom Steyer Est. #8169 12.10.19-12.15.19     com_cpy   \n",
       "\n",
       "                                file_id network_affiliation active_ind  \n",
       "2  9d3bb5bb-b1ed-2623-7ff8-48750413a2e1                 NBC          Y  \n",
       "3  6160b22a-a291-8a16-8adf-33a513ec50ee                  CW          N  \n",
       "5  3bf4c262-115a-e53b-0a21-125c6735d94c                 NBC          Y  \n",
       "7  120a40b5-23e4-1aac-dae1-a7688cf9d5f3                 NBC          Y  \n",
       "8  1908707a-1489-ed51-b313-262936b6fb29                 NBC          Y  "
      ]
     },
     "execution_count": 144,
     "metadata": {},
     "output_type": "execute_result"
    }
   ],
   "source": [
    "steyer_df[0:5]"
   ]
  },
  {
   "cell_type": "markdown",
   "metadata": {},
   "source": [
    "## Checks for data integrity"
   ]
  },
  {
   "cell_type": "code",
   "execution_count": 9,
   "metadata": {},
   "outputs": [],
   "source": [
    "import re\n",
    "\n",
    "## Checks input df for all candidates except for the given candidate key\n",
    "def check_str(key):\n",
    "    check_string = 'Bernie|Sanders|Joe|Biden|Elizabeth|Warren|Pete|Buttigieg|Amy|Klobuchar|Tom|Steyer|bloomberg|Bloomberg'\n",
    "    if key == 'sanders': return (check_string.replace('Bernie|Sanders|',''))\n",
    "    elif key == 'biden': return check_string.replace('Joe|Biden|','')\n",
    "    elif key == 'warren': return check_string.replace('Elizabeth|Warren|','')\n",
    "    elif key == 'buttigieg': return check_string.replace('Pete|Buttigieg|','')\n",
    "    elif key == 'klobuchar': return check_string.replace('Amy|Klobuchar|','')\n",
    "    elif key == 'steyer': return check_string.replace('Tom|Steyer|','')\n",
    "    elif key == 'bloomberg': return check_string.replace('|bloomberg|Bloomberg','')\n",
    "    else: return 'Error'\n",
    "    \n",
    "def check(df, key):\n",
    "    check_string = check_str(key)\n",
    "    return (df[df['file_name'].str.contains(check_string, flags = re.IGNORECASE, regex = True)]['file_name'])"
   ]
  },
  {
   "cell_type": "code",
   "execution_count": 10,
   "metadata": {
    "scrolled": true
   },
   "outputs": [
    {
     "data": {
      "text/plain": [
       "1317                   MIKE BLOOMBERG--TOMMY MRBPBK6028EH\n",
       "1360                              Political Ad Form-Tommy\n",
       "1760                   MIKE BLOOMBERG--TOMMY MRBPBK6028EH\n",
       "2091                   MIKE BLOOMBERG--TOMMY MRBPBK6028EH\n",
       "2367                       2.18.20 Mike Bloomberg - Tommy\n",
       "2729                   MIKE BLOOMBERG--TOMMY MRBPBK6028EH\n",
       "7057    Bloomberg US President WUPV review form - Tomm...\n",
       "7059    Bloomberg US President WWBT review form - Tomm...\n",
       "7421                                     MRBPK6028H Tommy\n",
       "Name: file_name, dtype: object"
      ]
     },
     "execution_count": 10,
     "metadata": {},
     "output_type": "execute_result"
    }
   ],
   "source": [
    "check(bloomberg_df, 'bloomberg')"
   ]
  },
  {
   "cell_type": "code",
   "execution_count": 11,
   "metadata": {},
   "outputs": [
    {
     "data": {
      "text/plain": [
       "Series([], Name: file_name, dtype: object)"
      ]
     },
     "execution_count": 11,
     "metadata": {},
     "output_type": "execute_result"
    }
   ],
   "source": [
    "check(biden_df, 'biden')"
   ]
  },
  {
   "cell_type": "code",
   "execution_count": 12,
   "metadata": {
    "scrolled": true
   },
   "outputs": [
    {
     "data": {
      "text/plain": [
       "Series([], Name: file_name, dtype: object)"
      ]
     },
     "execution_count": 12,
     "metadata": {},
     "output_type": "execute_result"
    }
   ],
   "source": [
    "check(wdf, 'warren')"
   ]
  },
  {
   "cell_type": "code",
   "execution_count": 13,
   "metadata": {},
   "outputs": [
    {
     "data": {
      "text/plain": [
       "1184    Tom Steyer for President 2020 Order 1007906\n",
       "1842                              Bloomberg AD 2.28\n",
       "Name: file_name, dtype: object"
      ]
     },
     "execution_count": 13,
     "metadata": {},
     "output_type": "execute_result"
    }
   ],
   "source": [
    "check(sanders_df, 'sanders')"
   ]
  },
  {
   "cell_type": "code",
   "execution_count": 14,
   "metadata": {},
   "outputs": [
    {
     "name": "stdout",
     "output_type": "stream",
     "text": [
      "Before: 1647\n",
      "After: 1645\n"
     ]
    }
   ],
   "source": [
    "print(\"Before: \" + str(len(sanders_df)))\n",
    "sanders_df.drop(check(sanders_df, 'sanders').index, inplace = True)\n",
    "sanders_df.to_pickle(\"sanders_cleaned.pkl\")\n",
    "print(\"After: \" + str(len(sanders_df)))"
   ]
  },
  {
   "cell_type": "code",
   "execution_count": 15,
   "metadata": {},
   "outputs": [],
   "source": [
    "sanders_nab = pd.read_pickle(\"sanders_nab.pkl\")"
   ]
  },
  {
   "cell_type": "code",
   "execution_count": 16,
   "metadata": {},
   "outputs": [
    {
     "name": "stdout",
     "output_type": "stream",
     "text": [
      "Before: 253\n",
      "After: 252\n"
     ]
    }
   ],
   "source": [
    "print(\"Before: \" + str(len(sanders_nab)))\n",
    "sanders_nab.drop(check(sanders_nab, 'sanders').index, inplace = True)\n",
    "sanders_nab.to_pickle(\"sanders_nab.pkl\")\n",
    "print(\"After: \" + str(len(sanders_nab)))"
   ]
  },
  {
   "cell_type": "code",
   "execution_count": 17,
   "metadata": {},
   "outputs": [
    {
     "data": {
      "text/plain": [
       "Series([], Name: file_name, dtype: object)"
      ]
     },
     "execution_count": 17,
     "metadata": {},
     "output_type": "execute_result"
    }
   ],
   "source": [
    "check(pete_df, 'buttigieg')"
   ]
  },
  {
   "cell_type": "code",
   "execution_count": 18,
   "metadata": {},
   "outputs": [
    {
     "data": {
      "text/plain": [
       "Series([], Name: file_name, dtype: object)"
      ]
     },
     "execution_count": 18,
     "metadata": {},
     "output_type": "execute_result"
    }
   ],
   "source": [
    "check(klobuchar_df, 'klobuchar')"
   ]
  },
  {
   "cell_type": "code",
   "execution_count": 19,
   "metadata": {},
   "outputs": [
    {
     "data": {
      "text/plain": [
       "600     Bloomberg US President WUPV review form - Tomm...\n",
       "601     Bloomberg US President WWBT review form - Tomm...\n",
       "604                    MIKE BLOOMBERG--TOMMY MRBPBK6028EH\n",
       "819                    MIKE BLOOMBERG--TOMMY MRBPBK6028EH\n",
       "894                    MIKE BLOOMBERG--TOMMY MRBPBK6028EH\n",
       "989                        2.18.20 Mike Bloomberg - Tommy\n",
       "1174                   MIKE BLOOMBERG--TOMMY MRBPBK6028EH\n",
       "Name: file_name, dtype: object"
      ]
     },
     "execution_count": 19,
     "metadata": {},
     "output_type": "execute_result"
    }
   ],
   "source": [
    "check(steyer_df, 'steyer')"
   ]
  },
  {
   "cell_type": "code",
   "execution_count": 20,
   "metadata": {},
   "outputs": [
    {
     "name": "stdout",
     "output_type": "stream",
     "text": [
      "After: 2276\n"
     ]
    }
   ],
   "source": [
    "## Corrections for data entry errors\n",
    "steyer_df.drop(check(steyer_df, 'steyer').index, inplace = True)\n",
    "steyer_df.to_pickle(\"steyer_cleaned.pkl\")\n",
    "print(\"After: \" + str(len(steyer_df)))"
   ]
  },
  {
   "cell_type": "code",
   "execution_count": 21,
   "metadata": {},
   "outputs": [
    {
     "data": {
      "text/plain": [
       "Int64Index([772, 773], dtype='int64')"
      ]
     },
     "execution_count": 21,
     "metadata": {},
     "output_type": "execute_result"
    }
   ],
   "source": [
    "steyer_nab = pd.read_pickle(\"steyer_nab.pkl\")\n",
    "check(steyer_nab, 'steyer').index"
   ]
  },
  {
   "cell_type": "code",
   "execution_count": 22,
   "metadata": {
    "scrolled": true
   },
   "outputs": [
    {
     "name": "stdout",
     "output_type": "stream",
     "text": [
      "Before: 374\n",
      "After: 372\n"
     ]
    }
   ],
   "source": [
    "print(\"Before: \" + str(len(steyer_nab)))\n",
    "steyer_nab.drop(check(steyer_nab, 'steyer').index, inplace = True)\n",
    "steyer_nab.to_pickle(\"steyer_nab.pkl\")\n",
    "print(\"After: \" + str(len(steyer_nab)))"
   ]
  },
  {
   "cell_type": "code",
   "execution_count": null,
   "metadata": {},
   "outputs": [],
   "source": []
  }
 ],
 "metadata": {
  "kernelspec": {
   "display_name": "Python 3",
   "language": "python",
   "name": "python3"
  },
  "language_info": {
   "codemirror_mode": {
    "name": "ipython",
    "version": 3
   },
   "file_extension": ".py",
   "mimetype": "text/x-python",
   "name": "python",
   "nbconvert_exporter": "python",
   "pygments_lexer": "ipython3",
   "version": "3.7.4"
  }
 },
 "nbformat": 4,
 "nbformat_minor": 2
}
